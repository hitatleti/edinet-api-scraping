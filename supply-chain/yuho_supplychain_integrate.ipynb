{
 "cells": [
  {
   "cell_type": "markdown",
   "metadata": {},
   "source": [
    "import libraries"
   ]
  },
  {
   "cell_type": "code",
   "execution_count": null,
   "metadata": {},
   "outputs": [],
   "source": [
    "import pandas as pd"
   ]
  },
  {
   "cell_type": "markdown",
   "metadata": {},
   "source": [
    "read datasets"
   ]
  },
  {
   "cell_type": "code",
   "execution_count": null,
   "metadata": {},
   "outputs": [],
   "source": [
    "supplychain_20210103_df = pd.read_excel(\"C:/Users/hisan/OneDrive/デスクトップ/edinet_xbrl/output-data/yuho_supplychain_20210103\")\n",
    "supplychain_20210406_df = pd.read_excel(\"C:/Users/hisan/OneDrive/デスクトップ/edinet_xbrl/output-data/yuho_supplychain_20210406\")\n",
    "supplychain_20210709_df = pd.read_excel(\"C:/Users/hisan/OneDrive/デスクトップ/edinet_xbrl/output-data/yuho_supplychain_20210709\")\n",
    "supplychain_20211012_df = pd.read_excel(\"C:/Users/hisan/OneDrive/デスクトップ/edinet_xbrl/output-data/yuho_supplychain_20211012\")"
   ]
  },
  {
   "cell_type": "code",
   "execution_count": null,
   "metadata": {},
   "outputs": [],
   "source": [
    "supplychain_20220103_df = pd.read_excel(\"C:/Users/hisan/OneDrive/デスクトップ/edinet_xbrl/output-data/yuho_supplychain_20220103\")\n",
    "supplychain_20220406_df = pd.read_excel(\"C:/Users/hisan/OneDrive/デスクトップ/edinet_xbrl/output-data/yuho_supplychain_20220406\")\n",
    "supplychain_20220709_df = pd.read_excel(\"C:/Users/hisan/OneDrive/デスクトップ/edinet_xbrl/output-data/yuho_supplychain_20220709\")\n",
    "supplychain_20221012_df = pd.read_excel(\"C:/Users/hisan/OneDrive/デスクトップ/edinet_xbrl/output-data/yuho_supplychain_20221012\")"
   ]
  },
  {
   "cell_type": "code",
   "execution_count": null,
   "metadata": {},
   "outputs": [],
   "source": [
    "supplychain_20230103_df = pd.read_excel(\"C:/Users/hisan/OneDrive/デスクトップ/edinet_xbrl/output-data/yuho_supplychain_20230103\")\n",
    "supplychain_20230406_df = pd.read_excel(\"C:/Users/hisan/OneDrive/デスクトップ/edinet_xbrl/output-data/yuho_supplychain_20230406\")\n",
    "# supplychain_20230709_df = pd.read_excel(\"C:/Users/hisan/OneDrive/デスクトップ/edinet_xbrl/output-data/yuho_supplychain_20230709\")\n",
    "# supplychain_20231012_df = pd.read_excel(\"C:/Users/hisan/OneDrive/デスクトップ/edinet_xbrl/output-data/yuho_supplychain_20231012\")"
   ]
  },
  {
   "cell_type": "markdown",
   "metadata": {},
   "source": [
    "make datasets"
   ]
  },
  {
   "cell_type": "code",
   "execution_count": null,
   "metadata": {},
   "outputs": [],
   "source": [
    "supplychain_2022_df = pd.concat([])"
   ]
  }
 ],
 "metadata": {
  "language_info": {
   "name": "python"
  },
  "orig_nbformat": 4
 },
 "nbformat": 4,
 "nbformat_minor": 2
}
