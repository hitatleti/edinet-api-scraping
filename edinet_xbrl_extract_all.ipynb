{
 "cells": [
  {
   "cell_type": "markdown",
   "metadata": {},
   "source": [
    "# EDINETから「主な相手先別の販売実績」を抽出する"
   ]
  },
  {
   "cell_type": "markdown",
   "metadata": {},
   "source": [
    "import libraries"
   ]
  },
  {
   "cell_type": "code",
   "execution_count": 2,
   "metadata": {},
   "outputs": [
    {
     "name": "stdout",
     "output_type": "stream",
     "text": [
      "Requirement already satisfied: edinet_xbrl in c:\\users\\hisan\\anaconda3\\lib\\site-packages (0.2.0)\n",
      "Requirement already satisfied: requests in c:\\users\\hisan\\anaconda3\\lib\\site-packages (from edinet_xbrl) (2.29.0)\n",
      "Requirement already satisfied: python-xbrl in c:\\users\\hisan\\anaconda3\\lib\\site-packages (from edinet_xbrl) (1.1.1)\n",
      "Requirement already satisfied: ordereddict in c:\\users\\hisan\\anaconda3\\lib\\site-packages (from python-xbrl->edinet_xbrl) (1.1)\n",
      "Requirement already satisfied: marshmallow in c:\\users\\hisan\\anaconda3\\lib\\site-packages (from python-xbrl->edinet_xbrl) (3.20.1)\n",
      "Requirement already satisfied: lxml in c:\\users\\hisan\\anaconda3\\lib\\site-packages (from python-xbrl->edinet_xbrl) (4.9.2)\n",
      "Requirement already satisfied: pep8 in c:\\users\\hisan\\anaconda3\\lib\\site-packages (from python-xbrl->edinet_xbrl) (1.7.1)\n",
      "Requirement already satisfied: pytest in c:\\users\\hisan\\anaconda3\\lib\\site-packages (from python-xbrl->edinet_xbrl) (7.3.1)\n",
      "Requirement already satisfied: six in c:\\users\\hisan\\anaconda3\\lib\\site-packages (from python-xbrl->edinet_xbrl) (1.16.0)\n",
      "Requirement already satisfied: beautifulsoup4 in c:\\users\\hisan\\anaconda3\\lib\\site-packages (from python-xbrl->edinet_xbrl) (4.12.2)\n",
      "Requirement already satisfied: charset-normalizer<4,>=2 in c:\\users\\hisan\\anaconda3\\lib\\site-packages (from requests->edinet_xbrl) (2.0.4)\n",
      "Requirement already satisfied: urllib3<1.27,>=1.21.1 in c:\\users\\hisan\\anaconda3\\lib\\site-packages (from requests->edinet_xbrl) (1.26.15)\n",
      "Requirement already satisfied: certifi>=2017.4.17 in c:\\users\\hisan\\anaconda3\\lib\\site-packages (from requests->edinet_xbrl) (2023.5.7)\n",
      "Requirement already satisfied: idna<4,>=2.5 in c:\\users\\hisan\\anaconda3\\lib\\site-packages (from requests->edinet_xbrl) (3.4)\n",
      "Requirement already satisfied: soupsieve>1.2 in c:\\users\\hisan\\anaconda3\\lib\\site-packages (from beautifulsoup4->python-xbrl->edinet_xbrl) (2.4)\n",
      "Requirement already satisfied: packaging>=17.0 in c:\\users\\hisan\\anaconda3\\lib\\site-packages (from marshmallow->python-xbrl->edinet_xbrl) (23.0)\n",
      "Requirement already satisfied: colorama in c:\\users\\hisan\\anaconda3\\lib\\site-packages (from pytest->python-xbrl->edinet_xbrl) (0.4.6)\n",
      "Requirement already satisfied: tomli>=1.0.0 in c:\\users\\hisan\\anaconda3\\lib\\site-packages (from pytest->python-xbrl->edinet_xbrl) (2.0.1)\n",
      "Requirement already satisfied: iniconfig in c:\\users\\hisan\\anaconda3\\lib\\site-packages (from pytest->python-xbrl->edinet_xbrl) (1.1.1)\n",
      "Requirement already satisfied: exceptiongroup>=1.0.0rc8 in c:\\users\\hisan\\anaconda3\\lib\\site-packages (from pytest->python-xbrl->edinet_xbrl) (1.0.4)\n",
      "Requirement already satisfied: pluggy<2.0,>=0.12 in c:\\users\\hisan\\anaconda3\\lib\\site-packages (from pytest->python-xbrl->edinet_xbrl) (1.0.0)\n"
     ]
    }
   ],
   "source": [
    "!pip install edinet_xbrl"
   ]
  },
  {
   "cell_type": "code",
   "execution_count": 3,
   "metadata": {},
   "outputs": [],
   "source": [
    "import requests\n",
    "import pandas as pd\n",
    "import zipfile\n",
    "import os\n",
    "from glob import glob\n",
    "from edinet_xbrl.edinet_xbrl_parser import EdinetXbrlParser\n",
    "from typing import Dict, List\n",
    "from datetime import datetime\n",
    "from dateutil.relativedelta import relativedelta\n",
    "from bs4 import BeautifulSoup"
   ]
  },
  {
   "cell_type": "markdown",
   "metadata": {},
   "source": [
    "EDINET API より財務情報の一覧を取得"
   ]
  },
  {
   "cell_type": "code",
   "execution_count": 19,
   "metadata": {},
   "outputs": [],
   "source": [
    "END_POINT = 'https://disclosure.edinet-fsa.go.jp/api/v1'\n",
    "submission_info_endpoint = f'{END_POINT}/documents.json'\n",
    "submission_request_parameters = {\n",
    "    'date': '2022-04-03',\n",
    "    'type': 2\n",
    "}\n",
    "submission_info_response = requests.get(\n",
    "    submission_info_endpoint, submission_request_parameters\n",
    ")\n",
    "submission_info_json = submission_info_response.json()"
   ]
  },
  {
   "cell_type": "code",
   "execution_count": 20,
   "metadata": {},
   "outputs": [
    {
     "data": {
      "text/plain": [
       "Index([], dtype='object')"
      ]
     },
     "execution_count": 20,
     "metadata": {},
     "output_type": "execute_result"
    }
   ],
   "source": [
    "raw_submission_info_df = pd.DataFrame(submission_info_json['results'])\n",
    "raw_submission_info_df.columns"
   ]
  },
  {
   "cell_type": "code",
   "execution_count": 21,
   "metadata": {},
   "outputs": [
    {
     "name": "stdout",
     "output_type": "stream",
     "text": [
      "1\n"
     ]
    }
   ],
   "source": [
    "if any(col not in raw_submission_info_df.columns for col in ['docID', 'edinetCode', 'secCode', 'filerName', 'docDescription']):\n",
    "    print(1)"
   ]
  },
  {
   "cell_type": "code",
   "execution_count": 22,
   "metadata": {},
   "outputs": [
    {
     "ename": "KeyError",
     "evalue": "\"None of [Index(['docID', 'edinetCode', 'secCode', 'filerName', 'docDescription'], dtype='object')] are in the [columns]\"",
     "output_type": "error",
     "traceback": [
      "\u001b[1;31m---------------------------------------------------------------------------\u001b[0m",
      "\u001b[1;31mKeyError\u001b[0m                                  Traceback (most recent call last)",
      "\u001b[1;32mc:\\Users\\hisan\\OneDrive\\デスクトップ\\edinet_xbrl_extract_all.ipynb セル 9\u001b[0m line \u001b[0;36m2\n\u001b[0;32m      <a href='vscode-notebook-cell:/c%3A/Users/hisan/OneDrive/%E3%83%87%E3%82%B9%E3%82%AF%E3%83%88%E3%83%83%E3%83%97/edinet_xbrl_extract_all.ipynb#X11sZmlsZQ%3D%3D?line=0'>1</a>\u001b[0m \u001b[39m# 重要なカラムに絞る\u001b[39;00m\n\u001b[1;32m----> <a href='vscode-notebook-cell:/c%3A/Users/hisan/OneDrive/%E3%83%87%E3%82%B9%E3%82%AF%E3%83%88%E3%83%83%E3%83%97/edinet_xbrl_extract_all.ipynb#X11sZmlsZQ%3D%3D?line=1'>2</a>\u001b[0m submission_info_df \u001b[39m=\u001b[39m raw_submission_info_df[[\u001b[39m'\u001b[39;49m\u001b[39mdocID\u001b[39;49m\u001b[39m'\u001b[39;49m, \u001b[39m'\u001b[39;49m\u001b[39medinetCode\u001b[39;49m\u001b[39m'\u001b[39;49m, \u001b[39m'\u001b[39;49m\u001b[39msecCode\u001b[39;49m\u001b[39m'\u001b[39;49m, \u001b[39m'\u001b[39;49m\u001b[39mfilerName\u001b[39;49m\u001b[39m'\u001b[39;49m, \u001b[39m'\u001b[39;49m\u001b[39mdocDescription\u001b[39;49m\u001b[39m'\u001b[39;49m]]\n\u001b[0;32m      <a href='vscode-notebook-cell:/c%3A/Users/hisan/OneDrive/%E3%83%87%E3%82%B9%E3%82%AF%E3%83%88%E3%83%83%E3%83%97/edinet_xbrl_extract_all.ipynb#X11sZmlsZQ%3D%3D?line=2'>3</a>\u001b[0m submission_info_df\u001b[39m.\u001b[39mhead()\n",
      "File \u001b[1;32mc:\\Users\\hisan\\anaconda3\\lib\\site-packages\\pandas\\core\\frame.py:3813\u001b[0m, in \u001b[0;36mDataFrame.__getitem__\u001b[1;34m(self, key)\u001b[0m\n\u001b[0;32m   3811\u001b[0m     \u001b[39mif\u001b[39;00m is_iterator(key):\n\u001b[0;32m   3812\u001b[0m         key \u001b[39m=\u001b[39m \u001b[39mlist\u001b[39m(key)\n\u001b[1;32m-> 3813\u001b[0m     indexer \u001b[39m=\u001b[39m \u001b[39mself\u001b[39;49m\u001b[39m.\u001b[39;49mcolumns\u001b[39m.\u001b[39;49m_get_indexer_strict(key, \u001b[39m\"\u001b[39;49m\u001b[39mcolumns\u001b[39;49m\u001b[39m\"\u001b[39;49m)[\u001b[39m1\u001b[39m]\n\u001b[0;32m   3815\u001b[0m \u001b[39m# take() does not accept boolean indexers\u001b[39;00m\n\u001b[0;32m   3816\u001b[0m \u001b[39mif\u001b[39;00m \u001b[39mgetattr\u001b[39m(indexer, \u001b[39m\"\u001b[39m\u001b[39mdtype\u001b[39m\u001b[39m\"\u001b[39m, \u001b[39mNone\u001b[39;00m) \u001b[39m==\u001b[39m \u001b[39mbool\u001b[39m:\n",
      "File \u001b[1;32mc:\\Users\\hisan\\anaconda3\\lib\\site-packages\\pandas\\core\\indexes\\base.py:6070\u001b[0m, in \u001b[0;36mIndex._get_indexer_strict\u001b[1;34m(self, key, axis_name)\u001b[0m\n\u001b[0;32m   6067\u001b[0m \u001b[39melse\u001b[39;00m:\n\u001b[0;32m   6068\u001b[0m     keyarr, indexer, new_indexer \u001b[39m=\u001b[39m \u001b[39mself\u001b[39m\u001b[39m.\u001b[39m_reindex_non_unique(keyarr)\n\u001b[1;32m-> 6070\u001b[0m \u001b[39mself\u001b[39;49m\u001b[39m.\u001b[39;49m_raise_if_missing(keyarr, indexer, axis_name)\n\u001b[0;32m   6072\u001b[0m keyarr \u001b[39m=\u001b[39m \u001b[39mself\u001b[39m\u001b[39m.\u001b[39mtake(indexer)\n\u001b[0;32m   6073\u001b[0m \u001b[39mif\u001b[39;00m \u001b[39misinstance\u001b[39m(key, Index):\n\u001b[0;32m   6074\u001b[0m     \u001b[39m# GH 42790 - Preserve name from an Index\u001b[39;00m\n",
      "File \u001b[1;32mc:\\Users\\hisan\\anaconda3\\lib\\site-packages\\pandas\\core\\indexes\\base.py:6130\u001b[0m, in \u001b[0;36mIndex._raise_if_missing\u001b[1;34m(self, key, indexer, axis_name)\u001b[0m\n\u001b[0;32m   6128\u001b[0m     \u001b[39mif\u001b[39;00m use_interval_msg:\n\u001b[0;32m   6129\u001b[0m         key \u001b[39m=\u001b[39m \u001b[39mlist\u001b[39m(key)\n\u001b[1;32m-> 6130\u001b[0m     \u001b[39mraise\u001b[39;00m \u001b[39mKeyError\u001b[39;00m(\u001b[39mf\u001b[39m\u001b[39m\"\u001b[39m\u001b[39mNone of [\u001b[39m\u001b[39m{\u001b[39;00mkey\u001b[39m}\u001b[39;00m\u001b[39m] are in the [\u001b[39m\u001b[39m{\u001b[39;00maxis_name\u001b[39m}\u001b[39;00m\u001b[39m]\u001b[39m\u001b[39m\"\u001b[39m)\n\u001b[0;32m   6132\u001b[0m not_found \u001b[39m=\u001b[39m \u001b[39mlist\u001b[39m(ensure_index(key)[missing_mask\u001b[39m.\u001b[39mnonzero()[\u001b[39m0\u001b[39m]]\u001b[39m.\u001b[39munique())\n\u001b[0;32m   6133\u001b[0m \u001b[39mraise\u001b[39;00m \u001b[39mKeyError\u001b[39;00m(\u001b[39mf\u001b[39m\u001b[39m\"\u001b[39m\u001b[39m{\u001b[39;00mnot_found\u001b[39m}\u001b[39;00m\u001b[39m not in index\u001b[39m\u001b[39m\"\u001b[39m)\n",
      "\u001b[1;31mKeyError\u001b[0m: \"None of [Index(['docID', 'edinetCode', 'secCode', 'filerName', 'docDescription'], dtype='object')] are in the [columns]\""
     ]
    }
   ],
   "source": [
    "# 重要なカラムに絞る\n",
    "submission_info_df = raw_submission_info_df[['docID', 'edinetCode', 'secCode', 'filerName', 'docDescription']]\n",
    "submission_info_df.head()"
   ]
  },
  {
   "cell_type": "code",
   "execution_count": 13,
   "metadata": {},
   "outputs": [
    {
     "name": "stdout",
     "output_type": "stream",
     "text": [
      "有価証券報告書の提出情報がありません。\n"
     ]
    }
   ],
   "source": [
    "# 有価証券報告書の情報を抽出する。\n",
    "securities_report_infos = []\n",
    "for i, row in submission_info_df.iterrows():\n",
    "    doc_desc = row['docDescription']\n",
    "    doc_seccode = row['secCode']\n",
    "    \n",
    "    if doc_desc is None:\n",
    "        continue\n",
    "    \n",
    "    if doc_seccode is None:\n",
    "        continue\n",
    "    \n",
    "    if ('有価証券報告書' in doc_desc) and ('受益証券' not in doc_desc) and ('訂正' not in doc_desc) and ('外国投資証券' not in doc_desc):\n",
    "        row_to_dataframe = pd.DataFrame([row])\n",
    "        securities_report_infos.append(row_to_dataframe)\n",
    "\n",
    "if len(securities_report_infos) == 0:\n",
    "    print('有価証券報告書の提出情報がありません。')\n",
    "else:\n",
    "    print(f'{len(securities_report_infos)} 件の有価証券報告書が抽出されました。')\n",
    "    securities_report_info_df = pd.concat(securities_report_infos)"
   ]
  },
  {
   "cell_type": "code",
   "execution_count": 14,
   "metadata": {},
   "outputs": [
    {
     "ename": "NameError",
     "evalue": "name 'securities_report_info_df' is not defined",
     "output_type": "error",
     "traceback": [
      "\u001b[1;31m---------------------------------------------------------------------------\u001b[0m",
      "\u001b[1;31mNameError\u001b[0m                                 Traceback (most recent call last)",
      "\u001b[1;32mc:\\Users\\hisan\\OneDrive\\デスクトップ\\edinet_xbrl_extract_all.ipynb セル 11\u001b[0m line \u001b[0;36m1\n\u001b[1;32m----> <a href='vscode-notebook-cell:/c%3A/Users/hisan/OneDrive/%E3%83%87%E3%82%B9%E3%82%AF%E3%83%88%E3%83%83%E3%83%97/edinet_xbrl_extract_all.ipynb#X13sZmlsZQ%3D%3D?line=0'>1</a>\u001b[0m securities_report_info_df\u001b[39m.\u001b[39miloc[\u001b[39m70\u001b[39m:\u001b[39m80\u001b[39m]\n",
      "\u001b[1;31mNameError\u001b[0m: name 'securities_report_info_df' is not defined"
     ]
    }
   ],
   "source": [
    "securities_report_info_df.iloc[70:80]"
   ]
  },
  {
   "cell_type": "code",
   "execution_count": 9,
   "metadata": {},
   "outputs": [
    {
     "data": {
      "text/plain": [
       "188    S100NN6X\n",
       "210    S100NN81\n",
       "246    S100NN9G\n",
       "Name: docID, dtype: object"
      ]
     },
     "execution_count": 9,
     "metadata": {},
     "output_type": "execute_result"
    }
   ],
   "source": [
    "securities_report_info_df['docID']"
   ]
  },
  {
   "cell_type": "code",
   "execution_count": 10,
   "metadata": {},
   "outputs": [
    {
     "name": "stderr",
     "output_type": "stream",
     "text": [
      "c:\\Users\\hisan\\anaconda3\\lib\\site-packages\\bs4\\builder\\__init__.py:545: XMLParsedAsHTMLWarning: It looks like you're parsing an XML document using an HTML parser. If this really is an HTML document (maybe it's XHTML?), you can ignore or filter this warning. If it's XML, you should know that using an XML parser will be more reliable. To parse this document as XML, make sure you have the lxml package installed, and pass the keyword argument `features=\"xml\"` into the BeautifulSoup constructor.\n",
      "  warnings.warn(\n"
     ]
    },
    {
     "ename": "NameError",
     "evalue": "name 'supplier_text' is not defined",
     "output_type": "error",
     "traceback": [
      "\u001b[1;31m---------------------------------------------------------------------------\u001b[0m",
      "\u001b[1;31mNameError\u001b[0m                                 Traceback (most recent call last)",
      "\u001b[1;32mc:\\Users\\hisan\\OneDrive\\デスクトップ\\edinet_xbrl_extract_all.ipynb セル 13\u001b[0m line \u001b[0;36m8\n\u001b[0;32m     <a href='vscode-notebook-cell:/c%3A/Users/hisan/OneDrive/%E3%83%87%E3%82%B9%E3%82%AF%E3%83%88%E3%83%83%E3%83%97/edinet_xbrl_extract_all.ipynb#X15sZmlsZQ%3D%3D?line=77'>78</a>\u001b[0m     \u001b[39mif\u001b[39;00m \u001b[39m'\u001b[39m\u001b[39m主な相手先別\u001b[39m\u001b[39m'\u001b[39m \u001b[39min\u001b[39;00m p\u001b[39m.\u001b[39mget_text():\n\u001b[0;32m     <a href='vscode-notebook-cell:/c%3A/Users/hisan/OneDrive/%E3%83%87%E3%82%B9%E3%82%AF%E3%83%88%E3%83%83%E3%83%97/edinet_xbrl_extract_all.ipynb#X15sZmlsZQ%3D%3D?line=78'>79</a>\u001b[0m         supplier_text \u001b[39m=\u001b[39m p\u001b[39m.\u001b[39mget_text()\n\u001b[1;32m---> <a href='vscode-notebook-cell:/c%3A/Users/hisan/OneDrive/%E3%83%87%E3%82%B9%E3%82%AF%E3%83%88%E3%83%83%E3%83%97/edinet_xbrl_extract_all.ipynb#X15sZmlsZQ%3D%3D?line=80'>81</a>\u001b[0m \u001b[39mif\u001b[39;00m \u001b[39m'\u001b[39m\u001b[39m省略\u001b[39m\u001b[39m'\u001b[39m \u001b[39min\u001b[39;00m supplier_text:\n\u001b[0;32m     <a href='vscode-notebook-cell:/c%3A/Users/hisan/OneDrive/%E3%83%87%E3%82%B9%E3%82%AF%E3%83%88%E3%83%83%E3%83%97/edinet_xbrl_extract_all.ipynb#X15sZmlsZQ%3D%3D?line=81'>82</a>\u001b[0m     \u001b[39m# table_content = [[], [], ['-', '-', '-', '-', '-']]\u001b[39;00m\n\u001b[0;32m     <a href='vscode-notebook-cell:/c%3A/Users/hisan/OneDrive/%E3%83%87%E3%82%B9%E3%82%AF%E3%83%88%E3%83%83%E3%83%97/edinet_xbrl_extract_all.ipynb#X15sZmlsZQ%3D%3D?line=82'>83</a>\u001b[0m     table_content \u001b[39m=\u001b[39m []\n\u001b[0;32m     <a href='vscode-notebook-cell:/c%3A/Users/hisan/OneDrive/%E3%83%87%E3%82%B9%E3%82%AF%E3%83%88%E3%83%83%E3%83%97/edinet_xbrl_extract_all.ipynb#X15sZmlsZQ%3D%3D?line=83'>84</a>\u001b[0m \u001b[39melse\u001b[39;00m:\n\u001b[0;32m     <a href='vscode-notebook-cell:/c%3A/Users/hisan/OneDrive/%E3%83%87%E3%82%B9%E3%82%AF%E3%83%88%E3%83%83%E3%83%97/edinet_xbrl_extract_all.ipynb#X15sZmlsZQ%3D%3D?line=84'>85</a>\u001b[0m     \u001b[39m# 抽出したテーブルの内容を表示\u001b[39;00m\n",
      "\u001b[1;31mNameError\u001b[0m: name 'supplier_text' is not defined"
     ]
    }
   ],
   "source": [
    "output_df = pd.DataFrame(columns=['相手先', '前連結_金額（百万円）', '前連結_割合（%）', '当連結_金額（百万円）', '当連結_割合（%）'])\n",
    "\n",
    "for docID in securities_report_info_df['docID']:\n",
    "    \n",
    "    label = securities_report_info_df[securities_report_info_df['docID'] == docID]\n",
    "    document_endpoint = f'{END_POINT}/documents/{docID}'\n",
    "    document_request_parameters = {\n",
    "        'type': 1\n",
    "    }\n",
    "    document_response = requests.get(document_endpoint, document_request_parameters)\n",
    "    \n",
    "    # まず、返ってきたデータを zip 形式で保存する。\n",
    "    zip_file_full_path = f'D:/EDINET_DATA/{docID}.zip'\n",
    "    with open(zip_file_full_path, 'wb') as f:\n",
    "        for chunk in document_response.iter_content(chunk_size=1024):\n",
    "            f.write(chunk)\n",
    "    \n",
    "    # zip ファイルを解凍する\n",
    "    os.makedirs(f'D:/EDINET_DATA/{docID}', exist_ok=True)\n",
    "    with zipfile.ZipFile(zip_file_full_path) as zip_f:\n",
    "        zip_f.extractall(f'D:/EDINET_DATA/{docID}')\n",
    "    \n",
    "    # xbrl ファイルを発見する\n",
    "    # PublicDoc 内に格納されている xbrl ファイルが分析対象となるファイルである。\n",
    "    xbrl_expression = f'D:/EDINET_DATA/{docID}/**/PublicDoc/**/*.xbrl'\n",
    "    xbrl_paths = glob(xbrl_expression, recursive=True)\n",
    "    \n",
    "    parser = EdinetXbrlParser()\n",
    "    # Step2で特定した XBRL ファイルのパスを選択\n",
    "    xbrl_path = xbrl_paths[0]\n",
    "    parsed_xbrl = parser.parse_file(xbrl_path)\n",
    "    \n",
    "    \n",
    "    # 経営者による財政状態、経営成績及びキャッシュ・フローの状況の分析 [テキストブロック]の取得\n",
    "    key = 'jpcrp_cor:ManagementAnalysisOfFinancialPositionOperatingResultsAndCashFlowsTextBlock'\n",
    "    context_ref = 'FilingDateInstant'\n",
    "    extracted_data = parsed_xbrl.get_data_by_context_ref(key, context_ref)\n",
    "    ManagementAnalysis = extracted_data.get_value()\n",
    "    \n",
    "    def extract_paragraph_and_following_table(html_code, target_text):\n",
    "        # BeautifulSoupを使ってパース\n",
    "        soup = BeautifulSoup(html_code, 'html.parser')\n",
    "\n",
    "        # 特定の文字列を含むパラグラフを抽出\n",
    "        target_paragraphs = [p for p in soup.find_all('p') if target_text in p.text]\n",
    "\n",
    "        # 対応する表を抽出\n",
    "        tables = []\n",
    "        for paragraph in target_paragraphs:\n",
    "            table = paragraph.find_next('table')\n",
    "            if table:\n",
    "                tables.append(table)\n",
    "\n",
    "        return target_paragraphs, tables\n",
    "    \n",
    "    \n",
    "    def extract_table_content(table):\n",
    "        # テーブルの行を取得\n",
    "        rows = table.find_all('tr')\n",
    "\n",
    "        # 各行のデータを取得\n",
    "        table_data = []\n",
    "        for row in rows:\n",
    "            cols = row.find_all(['th', 'td'])\n",
    "            cols = [col.text.strip() for col in cols]\n",
    "            table_data.append(cols)\n",
    "\n",
    "        return table_data\n",
    "\n",
    "    # 使用例\n",
    "    html_code = ManagementAnalysis\n",
    "\n",
    "    # 例として特定の文字列を含むパラグラフとその次に続く表を抽出する関数を呼び出す\n",
    "    target_text = \"主な相手先別\"\n",
    "    paragraphs, tables = extract_paragraph_and_following_table(html_code, target_text)\n",
    "    \n",
    "    for p in paragraphs:\n",
    "        if '主な相手先別' in p.get_text():\n",
    "            supplier_text = p.get_text()\n",
    "    \n",
    "    if '省略' in supplier_text:\n",
    "        # table_content = [[], [], ['-', '-', '-', '-', '-']]\n",
    "        table_content = []\n",
    "    else:\n",
    "        # 抽出したテーブルの内容を表示\n",
    "        if tables:\n",
    "            for table in tables:\n",
    "                table_content = extract_table_content(table)\n",
    "        else:\n",
    "            # table_content = [[], [], ['-', '-', '-', '-', '-']]\n",
    "            table_content = []\n",
    "    \n",
    "    # テーブルの内容をデータフレームに変換\n",
    "    additional_columns = ['相手先', '前連結_金額（百万円）', '前連結_割合（%）', '当連結_金額（百万円）', '当連結_割合（%）']\n",
    "\n",
    "    result = [item for item in table_content if len(item) == 5]\n",
    "    \n",
    "    # データフレームを結合\n",
    "    for element in result:\n",
    "        label[additional_columns] = element\n",
    "        output_df = pd.concat([label, output_df], axis=0)\n",
    "    \n",
    "    # display(output_df)"
   ]
  },
  {
   "cell_type": "code",
   "execution_count": null,
   "metadata": {},
   "outputs": [
    {
     "data": {
      "text/html": [
       "<div>\n",
       "<style scoped>\n",
       "    .dataframe tbody tr th:only-of-type {\n",
       "        vertical-align: middle;\n",
       "    }\n",
       "\n",
       "    .dataframe tbody tr th {\n",
       "        vertical-align: top;\n",
       "    }\n",
       "\n",
       "    .dataframe thead th {\n",
       "        text-align: right;\n",
       "    }\n",
       "</style>\n",
       "<table border=\"1\" class=\"dataframe\">\n",
       "  <thead>\n",
       "    <tr style=\"text-align: right;\">\n",
       "      <th></th>\n",
       "      <th>docID</th>\n",
       "      <th>edinetCode</th>\n",
       "      <th>secCode</th>\n",
       "      <th>filerName</th>\n",
       "      <th>docDescription</th>\n",
       "      <th>相手先</th>\n",
       "      <th>前連結_金額（百万円）</th>\n",
       "      <th>前連結_割合（%）</th>\n",
       "      <th>当連結_金額（百万円）</th>\n",
       "      <th>当連結_割合（%）</th>\n",
       "    </tr>\n",
       "  </thead>\n",
       "  <tbody>\n",
       "    <tr>\n",
       "      <th>1973</th>\n",
       "      <td>S100RB3P</td>\n",
       "      <td>E33615</td>\n",
       "      <td>65620</td>\n",
       "      <td>株式会社ジーニー</td>\n",
       "      <td>有価証券報告書－第13期(2022/04/01－2023/03/31)</td>\n",
       "      <td>ヤフー株式会社</td>\n",
       "      <td>1,429,868</td>\n",
       "      <td>9.9</td>\n",
       "      <td>507,082</td>\n",
       "      <td>7.9</td>\n",
       "    </tr>\n",
       "    <tr>\n",
       "      <th>1973</th>\n",
       "      <td>S100RB3P</td>\n",
       "      <td>E33615</td>\n",
       "      <td>65620</td>\n",
       "      <td>株式会社ジーニー</td>\n",
       "      <td>有価証券報告書－第13期(2022/04/01－2023/03/31)</td>\n",
       "      <td>Google Inc.</td>\n",
       "      <td>5,138,102</td>\n",
       "      <td>35.5</td>\n",
       "      <td>888,404</td>\n",
       "      <td>13.8</td>\n",
       "    </tr>\n",
       "    <tr>\n",
       "      <th>1943</th>\n",
       "      <td>S100RB26</td>\n",
       "      <td>E34499</td>\n",
       "      <td>76770</td>\n",
       "      <td>株式会社ヤシマキザイ</td>\n",
       "      <td>有価証券報告書－第79期(2022/04/01－2023/03/31)</td>\n",
       "      <td>西日本旅客鉄道(株)</td>\n",
       "      <td>2,554,404</td>\n",
       "      <td>9.0</td>\n",
       "      <td>2,353,124</td>\n",
       "      <td>9.2</td>\n",
       "    </tr>\n",
       "    <tr>\n",
       "      <th>1943</th>\n",
       "      <td>S100RB26</td>\n",
       "      <td>E34499</td>\n",
       "      <td>76770</td>\n",
       "      <td>株式会社ヤシマキザイ</td>\n",
       "      <td>有価証券報告書－第79期(2022/04/01－2023/03/31)</td>\n",
       "      <td>東海旅客鉄道(株)</td>\n",
       "      <td>3,318,227</td>\n",
       "      <td>11.7</td>\n",
       "      <td>3,525,736</td>\n",
       "      <td>13.8</td>\n",
       "    </tr>\n",
       "    <tr>\n",
       "      <th>1943</th>\n",
       "      <td>S100RB26</td>\n",
       "      <td>E34499</td>\n",
       "      <td>76770</td>\n",
       "      <td>株式会社ヤシマキザイ</td>\n",
       "      <td>有価証券報告書－第79期(2022/04/01－2023/03/31)</td>\n",
       "      <td>東日本旅客鉄道(株)</td>\n",
       "      <td>4,454,802</td>\n",
       "      <td>15.7</td>\n",
       "      <td>3,808,360</td>\n",
       "      <td>14.9</td>\n",
       "    </tr>\n",
       "  </tbody>\n",
       "</table>\n",
       "</div>"
      ],
      "text/plain": [
       "         docID edinetCode secCode   filerName  \\\n",
       "1973  S100RB3P     E33615   65620    株式会社ジーニー   \n",
       "1973  S100RB3P     E33615   65620    株式会社ジーニー   \n",
       "1943  S100RB26     E34499   76770  株式会社ヤシマキザイ   \n",
       "1943  S100RB26     E34499   76770  株式会社ヤシマキザイ   \n",
       "1943  S100RB26     E34499   76770  株式会社ヤシマキザイ   \n",
       "\n",
       "                           docDescription          相手先 前連結_金額（百万円） 前連結_割合（%）  \\\n",
       "1973  有価証券報告書－第13期(2022/04/01－2023/03/31)      ヤフー株式会社   1,429,868       9.9   \n",
       "1973  有価証券報告書－第13期(2022/04/01－2023/03/31)  Google Inc.   5,138,102      35.5   \n",
       "1943  有価証券報告書－第79期(2022/04/01－2023/03/31)   西日本旅客鉄道(株)   2,554,404       9.0   \n",
       "1943  有価証券報告書－第79期(2022/04/01－2023/03/31)    東海旅客鉄道(株)   3,318,227      11.7   \n",
       "1943  有価証券報告書－第79期(2022/04/01－2023/03/31)   東日本旅客鉄道(株)   4,454,802      15.7   \n",
       "\n",
       "     当連結_金額（百万円） 当連結_割合（%）  \n",
       "1973     507,082       7.9  \n",
       "1973     888,404      13.8  \n",
       "1943   2,353,124       9.2  \n",
       "1943   3,525,736      13.8  \n",
       "1943   3,808,360      14.9  "
      ]
     },
     "execution_count": 83,
     "metadata": {},
     "output_type": "execute_result"
    }
   ],
   "source": [
    "output_df.head()"
   ]
  },
  {
   "cell_type": "code",
   "execution_count": null,
   "metadata": {},
   "outputs": [],
   "source": []
  }
 ],
 "metadata": {
  "kernelspec": {
   "display_name": "base",
   "language": "python",
   "name": "python3"
  },
  "language_info": {
   "codemirror_mode": {
    "name": "ipython",
    "version": 3
   },
   "file_extension": ".py",
   "mimetype": "text/x-python",
   "name": "python",
   "nbconvert_exporter": "python",
   "pygments_lexer": "ipython3",
   "version": "3.9.16"
  },
  "orig_nbformat": 4
 },
 "nbformat": 4,
 "nbformat_minor": 2
}
